{
 "cells": [
  {
   "cell_type": "markdown",
   "id": "e9170ff8",
   "metadata": {
    "toc": true
   },
   "source": [
    "<h1>Table of Contents<span class=\"tocSkip\"></span></h1>\n",
    "<div class=\"toc\"><ul class=\"toc-item\"><li><span><a href=\"#Data\" data-toc-modified-id=\"Data-1\"><span class=\"toc-item-num\">1&nbsp;&nbsp;</span>Data</a></span><ul class=\"toc-item\"><li><span><a href=\"#Project-description\" data-toc-modified-id=\"Project-description-1.1\"><span class=\"toc-item-num\">1.1&nbsp;&nbsp;</span>Project description</a></span></li><li><span><a href=\"#Data-description\" data-toc-modified-id=\"Data-description-1.2\"><span class=\"toc-item-num\">1.2&nbsp;&nbsp;</span>Data description</a></span></li><li><span><a href=\"#Library-imports-and-project-environment-setup\" data-toc-modified-id=\"Library-imports-and-project-environment-setup-1.3\"><span class=\"toc-item-num\">1.3&nbsp;&nbsp;</span>Library imports and project environment setup</a></span></li><li><span><a href=\"#CSV-file-read\" data-toc-modified-id=\"CSV-file-read-1.4\"><span class=\"toc-item-num\">1.4&nbsp;&nbsp;</span>CSV file read</a></span></li><li><span><a href=\"#General-info-and-preprocessing\" data-toc-modified-id=\"General-info-and-preprocessing-1.5\"><span class=\"toc-item-num\">1.5&nbsp;&nbsp;</span>General info and preprocessing</a></span></li></ul></li><li><span><a href=\"#Task-1:-Similar-customers\" data-toc-modified-id=\"Task-1:-Similar-customers-2\"><span class=\"toc-item-num\">2&nbsp;&nbsp;</span>Task 1: Similar customers</a></span></li><li><span><a href=\"#Task-2:-Insurance-benefit-prediction-kNN\" data-toc-modified-id=\"Task-2:-Insurance-benefit-prediction-kNN-3\"><span class=\"toc-item-num\">3&nbsp;&nbsp;</span>Task 2: Insurance benefit prediction kNN</a></span><ul class=\"toc-item\"><li><span><a href=\"#Unscaled\" data-toc-modified-id=\"Unscaled-3.1\"><span class=\"toc-item-num\">3.1&nbsp;&nbsp;</span>Unscaled</a></span></li><li><span><a href=\"#Scaled\" data-toc-modified-id=\"Scaled-3.2\"><span class=\"toc-item-num\">3.2&nbsp;&nbsp;</span>Scaled</a></span></li><li><span><a href=\"#Paying-insurance-benefit-probability\" data-toc-modified-id=\"Paying-insurance-benefit-probability-3.3\"><span class=\"toc-item-num\">3.3&nbsp;&nbsp;</span>Paying insurance benefit probability</a></span></li></ul></li><li><span><a href=\"#Task-3:-Insurance-benefit-prediction--LR\" data-toc-modified-id=\"Task-3:-Insurance-benefit-prediction--LR-4\"><span class=\"toc-item-num\">4&nbsp;&nbsp;</span>Task 3: Insurance benefit prediction- LR</a></span></li><li><span><a href=\"#Task-4:-Data-obfuscation\" data-toc-modified-id=\"Task-4:-Data-obfuscation-5\"><span class=\"toc-item-num\">5&nbsp;&nbsp;</span>Task 4: Data obfuscation</a></span><ul class=\"toc-item\"><li><span><a href=\"#Proof-data-obfuscation-works-with-LR\" data-toc-modified-id=\"Proof-data-obfuscation-works-with-LR-5.1\"><span class=\"toc-item-num\">5.1&nbsp;&nbsp;</span>Proof data obfuscation works with LR</a></span></li><li><span><a href=\"#LR-testing-with-data-obfuscation\" data-toc-modified-id=\"LR-testing-with-data-obfuscation-5.2\"><span class=\"toc-item-num\">5.2&nbsp;&nbsp;</span>LR testing with data obfuscation</a></span></li></ul></li><li><span><a href=\"#Conclusion\" data-toc-modified-id=\"Conclusion-6\"><span class=\"toc-item-num\">6&nbsp;&nbsp;</span>Conclusion</a></span></li></ul></div>"
   ]
  },
  {
   "cell_type": "markdown",
   "id": "c9cf6ae4",
   "metadata": {},
   "source": [
    "# Data"
   ]
  },
  {
   "cell_type": "markdown",
   "id": "7b474031",
   "metadata": {},
   "source": [
    "## Project description"
   ]
  },
  {
   "cell_type": "markdown",
   "id": "811f3418",
   "metadata": {},
   "source": [
    "Sure Tomorrow insurance company wants to solve several tasks with machine learning and we are asked to evaluate that possibility.\n",
    "\n",
    "It's necessary to develop a data transformation algorithm that would make it hard to recover personal information if data fell into wrong hands. This is called data masking, or data obfuscation. But data should be protected in such a way that machine learning models' quality  doesn't suffer. We don't need to pick best model, just prove algorithm works correctly."
   ]
  },
  {
   "cell_type": "markdown",
   "id": "5e1cfa69",
   "metadata": {},
   "source": [
    "## Data description"
   ]
  },
  {
   "cell_type": "markdown",
   "id": "5360f9a0",
   "metadata": {},
   "source": [
    "- __Features__: insured person's gender, age, salary, and number of family\n",
    "members.\n",
    "- __Target__: number of insurance benefits received by the insured person over the last five years."
   ]
  },
  {
   "cell_type": "markdown",
   "id": "e4fb0d10",
   "metadata": {},
   "source": [
    "## Library imports and project environment setup"
   ]
  },
  {
   "cell_type": "code",
   "execution_count": 1,
   "id": "14aaeca6",
   "metadata": {},
   "outputs": [],
   "source": [
    "##Pandas, Numpy and Re for data preprocessing and manipulation\n",
    "import pandas as pd\n",
    "import numpy as np\n",
    "import re\n",
    "\n",
    "##Remove warnings\n",
    "import sys\n",
    "import warnings\n",
    "if not sys.warnoptions:\n",
    "   warnings.simplefilter(\"ignore\");\n",
    "\n",
    "##Math\n",
    "import math\n",
    "\n",
    "##Matplotlib and Seaborn for visualization\n",
    "import matplotlib.pyplot as plt\n",
    "import seaborn as sns\n",
    "#from IPython.display import display\n",
    "\n",
    "#SKLearn for ML\n",
    "import sklearn.linear_model\n",
    "import sklearn.metrics\n",
    "from sklearn.model_selection import train_test_split\n",
    "import sklearn.neighbors\n",
    "import sklearn.preprocessing\n",
    "from scipy.spatial import distance"
   ]
  },
  {
   "cell_type": "markdown",
   "id": "90b355f7",
   "metadata": {},
   "source": [
    "## CSV file read"
   ]
  },
  {
   "cell_type": "code",
   "execution_count": 2,
   "id": "e6882227",
   "metadata": {},
   "outputs": [],
   "source": [
    "#Reading csv file using try-except to handle unexpected errors\n",
    "try:\n",
    "    df=pd.read_csv('/Downloads/insurance_us.csv')\n",
    "\n",
    "except:\n",
    "    df=pd.read_csv('https://code.s3.yandex.net/datasets/insurance_us.csv')"
   ]
  },
  {
   "cell_type": "markdown",
   "id": "82069d99",
   "metadata": {},
   "source": [
    "## General info and preprocessing"
   ]
  },
  {
   "cell_type": "code",
   "execution_count": 3,
   "id": "19b84c7c",
   "metadata": {},
   "outputs": [
    {
     "data": {
      "text/html": [
       "<div>\n",
       "<style scoped>\n",
       "    .dataframe tbody tr th:only-of-type {\n",
       "        vertical-align: middle;\n",
       "    }\n",
       "\n",
       "    .dataframe tbody tr th {\n",
       "        vertical-align: top;\n",
       "    }\n",
       "\n",
       "    .dataframe thead th {\n",
       "        text-align: right;\n",
       "    }\n",
       "</style>\n",
       "<table border=\"1\" class=\"dataframe\">\n",
       "  <thead>\n",
       "    <tr style=\"text-align: right;\">\n",
       "      <th></th>\n",
       "      <th>Gender</th>\n",
       "      <th>Age</th>\n",
       "      <th>Salary</th>\n",
       "      <th>Family members</th>\n",
       "      <th>Insurance benefits</th>\n",
       "    </tr>\n",
       "  </thead>\n",
       "  <tbody>\n",
       "    <tr>\n",
       "      <th>0</th>\n",
       "      <td>1</td>\n",
       "      <td>41.0</td>\n",
       "      <td>49600.0</td>\n",
       "      <td>1</td>\n",
       "      <td>0</td>\n",
       "    </tr>\n",
       "    <tr>\n",
       "      <th>1</th>\n",
       "      <td>0</td>\n",
       "      <td>46.0</td>\n",
       "      <td>38000.0</td>\n",
       "      <td>1</td>\n",
       "      <td>1</td>\n",
       "    </tr>\n",
       "    <tr>\n",
       "      <th>2</th>\n",
       "      <td>0</td>\n",
       "      <td>29.0</td>\n",
       "      <td>21000.0</td>\n",
       "      <td>0</td>\n",
       "      <td>0</td>\n",
       "    </tr>\n",
       "    <tr>\n",
       "      <th>3</th>\n",
       "      <td>1</td>\n",
       "      <td>28.0</td>\n",
       "      <td>26100.0</td>\n",
       "      <td>0</td>\n",
       "      <td>0</td>\n",
       "    </tr>\n",
       "    <tr>\n",
       "      <th>4</th>\n",
       "      <td>1</td>\n",
       "      <td>43.0</td>\n",
       "      <td>41000.0</td>\n",
       "      <td>2</td>\n",
       "      <td>1</td>\n",
       "    </tr>\n",
       "  </tbody>\n",
       "</table>\n",
       "</div>"
      ],
      "text/plain": [
       "   Gender   Age   Salary  Family members  Insurance benefits\n",
       "0       1  41.0  49600.0               1                   0\n",
       "1       0  46.0  38000.0               1                   1\n",
       "2       0  29.0  21000.0               0                   0\n",
       "3       1  28.0  26100.0               0                   0\n",
       "4       1  43.0  41000.0               2                   1"
      ]
     },
     "execution_count": 3,
     "metadata": {},
     "output_type": "execute_result"
    }
   ],
   "source": [
    "#First, in order to guarantee efficiency we immediately drop row-based duplicates\n",
    "df.drop_duplicates(inplace=True,keep='last')\n",
    "df.reset_index(drop=True, inplace=True)\n",
    "\n",
    "#Printing first five entries in dataframe\n",
    "df.head()"
   ]
  },
  {
   "cell_type": "markdown",
   "id": "8d2565cf",
   "metadata": {},
   "source": [
    "- Results show column names are accurate to the project data description.\n",
    "- DF has 4 features and `Insurance benefits` as it's categorical target.\n",
    "- Column names should be converted to lowercase and spaces removed."
   ]
  },
  {
   "cell_type": "code",
   "execution_count": 4,
   "id": "07b0375d",
   "metadata": {},
   "outputs": [
    {
     "name": "stdout",
     "output_type": "stream",
     "text": [
      "<class 'pandas.core.frame.DataFrame'>\n",
      "RangeIndex: 4847 entries, 0 to 4846\n",
      "Data columns (total 5 columns):\n",
      " #   Column              Non-Null Count  Dtype  \n",
      "---  ------              --------------  -----  \n",
      " 0   Gender              4847 non-null   int64  \n",
      " 1   Age                 4847 non-null   float64\n",
      " 2   Salary              4847 non-null   float64\n",
      " 3   Family members      4847 non-null   int64  \n",
      " 4   Insurance benefits  4847 non-null   int64  \n",
      "dtypes: float64(2), int64(3)\n",
      "memory usage: 189.5 KB\n"
     ]
    }
   ],
   "source": [
    "#General file examination (missing values and data types)\n",
    "df.info()"
   ]
  },
  {
   "cell_type": "markdown",
   "id": "d1640757",
   "metadata": {},
   "source": [
    "- Dataset includes 4847 entries and 5 columns.\n",
    "- There aren't any missing values.\n",
    "- `Age` data type should be converted to integer."
   ]
  },
  {
   "cell_type": "code",
   "execution_count": 5,
   "id": "7a5bf0e7",
   "metadata": {
    "scrolled": true
   },
   "outputs": [
    {
     "data": {
      "text/html": [
       "<div>\n",
       "<style scoped>\n",
       "    .dataframe tbody tr th:only-of-type {\n",
       "        vertical-align: middle;\n",
       "    }\n",
       "\n",
       "    .dataframe tbody tr th {\n",
       "        vertical-align: top;\n",
       "    }\n",
       "\n",
       "    .dataframe thead th {\n",
       "        text-align: right;\n",
       "    }\n",
       "</style>\n",
       "<table border=\"1\" class=\"dataframe\">\n",
       "  <thead>\n",
       "    <tr style=\"text-align: right;\">\n",
       "      <th></th>\n",
       "      <th>Gender</th>\n",
       "      <th>Age</th>\n",
       "      <th>Salary</th>\n",
       "      <th>Family members</th>\n",
       "      <th>Insurance benefits</th>\n",
       "    </tr>\n",
       "  </thead>\n",
       "  <tbody>\n",
       "    <tr>\n",
       "      <th>count</th>\n",
       "      <td>4847.000000</td>\n",
       "      <td>4847.000000</td>\n",
       "      <td>4847.000000</td>\n",
       "      <td>4847.000000</td>\n",
       "      <td>4847.000000</td>\n",
       "    </tr>\n",
       "    <tr>\n",
       "      <th>mean</th>\n",
       "      <td>0.498453</td>\n",
       "      <td>31.023932</td>\n",
       "      <td>39895.811842</td>\n",
       "      <td>1.203425</td>\n",
       "      <td>0.152259</td>\n",
       "    </tr>\n",
       "    <tr>\n",
       "      <th>std</th>\n",
       "      <td>0.500049</td>\n",
       "      <td>8.487995</td>\n",
       "      <td>9972.953985</td>\n",
       "      <td>1.098664</td>\n",
       "      <td>0.468934</td>\n",
       "    </tr>\n",
       "    <tr>\n",
       "      <th>min</th>\n",
       "      <td>0.000000</td>\n",
       "      <td>18.000000</td>\n",
       "      <td>5300.000000</td>\n",
       "      <td>0.000000</td>\n",
       "      <td>0.000000</td>\n",
       "    </tr>\n",
       "    <tr>\n",
       "      <th>25%</th>\n",
       "      <td>0.000000</td>\n",
       "      <td>24.000000</td>\n",
       "      <td>33200.000000</td>\n",
       "      <td>0.000000</td>\n",
       "      <td>0.000000</td>\n",
       "    </tr>\n",
       "    <tr>\n",
       "      <th>50%</th>\n",
       "      <td>0.000000</td>\n",
       "      <td>30.000000</td>\n",
       "      <td>40200.000000</td>\n",
       "      <td>1.000000</td>\n",
       "      <td>0.000000</td>\n",
       "    </tr>\n",
       "    <tr>\n",
       "      <th>75%</th>\n",
       "      <td>1.000000</td>\n",
       "      <td>37.000000</td>\n",
       "      <td>46600.000000</td>\n",
       "      <td>2.000000</td>\n",
       "      <td>0.000000</td>\n",
       "    </tr>\n",
       "    <tr>\n",
       "      <th>max</th>\n",
       "      <td>1.000000</td>\n",
       "      <td>65.000000</td>\n",
       "      <td>79000.000000</td>\n",
       "      <td>6.000000</td>\n",
       "      <td>5.000000</td>\n",
       "    </tr>\n",
       "  </tbody>\n",
       "</table>\n",
       "</div>"
      ],
      "text/plain": [
       "            Gender          Age        Salary  Family members  \\\n",
       "count  4847.000000  4847.000000   4847.000000     4847.000000   \n",
       "mean      0.498453    31.023932  39895.811842        1.203425   \n",
       "std       0.500049     8.487995   9972.953985        1.098664   \n",
       "min       0.000000    18.000000   5300.000000        0.000000   \n",
       "25%       0.000000    24.000000  33200.000000        0.000000   \n",
       "50%       0.000000    30.000000  40200.000000        1.000000   \n",
       "75%       1.000000    37.000000  46600.000000        2.000000   \n",
       "max       1.000000    65.000000  79000.000000        6.000000   \n",
       "\n",
       "       Insurance benefits  \n",
       "count         4847.000000  \n",
       "mean             0.152259  \n",
       "std              0.468934  \n",
       "min              0.000000  \n",
       "25%              0.000000  \n",
       "50%              0.000000  \n",
       "75%              0.000000  \n",
       "max              5.000000  "
      ]
     },
     "execution_count": 5,
     "metadata": {},
     "output_type": "execute_result"
    }
   ],
   "source": [
    "#Integrated display of columns\n",
    "df.describe(include='all')"
   ]
  },
  {
   "cell_type": "markdown",
   "id": "27deadc6",
   "metadata": {},
   "source": [
    "- Both `Gender` values are represented equally.\n",
    "- `Age` and `Salary` seem normally distributed with close mean and median values. \n",
    "- Avg. age is 30 years old and avg. salary is $40.2K.\n",
    "- `Family members` up to 6 and normally distributed.\n",
    "- Most insured people didn't receive insurance benefits over the last five years. \n",
    "- Target has max value of 5."
   ]
  },
  {
   "cell_type": "code",
   "execution_count": 6,
   "id": "bd04633c",
   "metadata": {},
   "outputs": [
    {
     "data": {
      "image/png": "[encoded data removed]",
      "text/plain": [
       "<Figure size 432x288 with 1 Axes>"
      ]
     },
     "metadata": {
      "needs_background": "light"
     },
     "output_type": "display_data"
    }
   ],
   "source": [
    "#Plotting insurance benefits\n",
    "df['Insurance benefits'].hist()\n",
    "plt.title('Insurance benefits');"
   ]
  },
  {
   "cell_type": "markdown",
   "id": "4ad5261b",
   "metadata": {},
   "source": [
    "Target classes are imbalanced."
   ]
  },
  {
   "cell_type": "code",
   "execution_count": 7,
   "id": "5b223ada",
   "metadata": {},
   "outputs": [
    {
     "data": {
      "text/html": [
       "<div>\n",
       "<style scoped>\n",
       "    .dataframe tbody tr th:only-of-type {\n",
       "        vertical-align: middle;\n",
       "    }\n",
       "\n",
       "    .dataframe tbody tr th {\n",
       "        vertical-align: top;\n",
       "    }\n",
       "\n",
       "    .dataframe thead th {\n",
       "        text-align: right;\n",
       "    }\n",
       "</style>\n",
       "<table border=\"1\" class=\"dataframe\">\n",
       "  <thead>\n",
       "    <tr style=\"text-align: right;\">\n",
       "      <th></th>\n",
       "      <th>gender</th>\n",
       "      <th>age</th>\n",
       "      <th>salary</th>\n",
       "      <th>family_members</th>\n",
       "      <th>insurance_benefits</th>\n",
       "    </tr>\n",
       "  </thead>\n",
       "  <tbody>\n",
       "  </tbody>\n",
       "</table>\n",
       "</div>"
      ],
      "text/plain": [
       "Empty DataFrame\n",
       "Columns: [gender, age, salary, family_members, insurance_benefits]\n",
       "Index: []"
      ]
     },
     "execution_count": 7,
     "metadata": {},
     "output_type": "execute_result"
    }
   ],
   "source": [
    "#Replacing column names\n",
    "columns = []\n",
    "for name in df.columns.values:\n",
    "    name = re.sub('([A-Z])', r' \\1', name).lower().replace(' ', '_')[1:]\n",
    "    columns.append(name)\n",
    "\n",
    "df.columns = columns\n",
    "df.head(0)"
   ]
  },
  {
   "cell_type": "code",
   "execution_count": 8,
   "id": "49985d8d",
   "metadata": {},
   "outputs": [],
   "source": [
    "#Converting data type\n",
    "df['age'] = df['age'].astype(int)"
   ]
  },
  {
   "cell_type": "code",
   "execution_count": 9,
   "id": "7ea922ac",
   "metadata": {},
   "outputs": [
    {
     "data": {
      "image/png": "[encoded data removed]",
      "text/plain": [
       "<Figure size 864x864 with 30 Axes>"
      ]
     },
     "metadata": {
      "needs_background": "light"
     },
     "output_type": "display_data"
    }
   ],
   "source": [
    "#Plotting pair plot to check whether there are any customer groups\n",
    "sns.pairplot(df, kind='hist').fig.set_size_inches(12, 12);"
   ]
  },
  {
   "cell_type": "markdown",
   "id": "5469d80a",
   "metadata": {},
   "source": [
    "There aren't any obvious groups (clusters) as it is difficult to combine several variables simultaneously (to analyze multivariate distributions). Now, on to LA and ML."
   ]
  },
  {
   "cell_type": "markdown",
   "id": "b10a07d8",
   "metadata": {},
   "source": [
    "# Task 1: Similar customers"
   ]
  },
  {
   "cell_type": "code",
   "execution_count": 10,
   "id": "32003fd4",
   "metadata": {
    "scrolled": true
   },
   "outputs": [
    {
     "data": {
      "text/html": [
       "<div>\n",
       "<style scoped>\n",
       "    .dataframe tbody tr th:only-of-type {\n",
       "        vertical-align: middle;\n",
       "    }\n",
       "\n",
       "    .dataframe tbody tr th {\n",
       "        vertical-align: top;\n",
       "    }\n",
       "\n",
       "    .dataframe thead th {\n",
       "        text-align: right;\n",
       "    }\n",
       "</style>\n",
       "<table border=\"1\" class=\"dataframe\">\n",
       "  <thead>\n",
       "    <tr style=\"text-align: right;\">\n",
       "      <th></th>\n",
       "      <th>gender</th>\n",
       "      <th>age</th>\n",
       "      <th>salary</th>\n",
       "      <th>family_members</th>\n",
       "      <th>insurance_benefits</th>\n",
       "    </tr>\n",
       "  </thead>\n",
       "  <tbody>\n",
       "    <tr>\n",
       "      <th>3124</th>\n",
       "      <td>1.0</td>\n",
       "      <td>0.446154</td>\n",
       "      <td>0.344304</td>\n",
       "      <td>0.500000</td>\n",
       "      <td>0</td>\n",
       "    </tr>\n",
       "    <tr>\n",
       "      <th>2315</th>\n",
       "      <td>0.0</td>\n",
       "      <td>0.384615</td>\n",
       "      <td>0.594937</td>\n",
       "      <td>0.166667</td>\n",
       "      <td>0</td>\n",
       "    </tr>\n",
       "    <tr>\n",
       "      <th>1992</th>\n",
       "      <td>1.0</td>\n",
       "      <td>0.384615</td>\n",
       "      <td>0.297468</td>\n",
       "      <td>0.000000</td>\n",
       "      <td>0</td>\n",
       "    </tr>\n",
       "    <tr>\n",
       "      <th>1064</th>\n",
       "      <td>0.0</td>\n",
       "      <td>0.538462</td>\n",
       "      <td>0.398734</td>\n",
       "      <td>0.166667</td>\n",
       "      <td>0</td>\n",
       "    </tr>\n",
       "    <tr>\n",
       "      <th>3375</th>\n",
       "      <td>0.0</td>\n",
       "      <td>0.446154</td>\n",
       "      <td>0.631646</td>\n",
       "      <td>0.333333</td>\n",
       "      <td>0</td>\n",
       "    </tr>\n",
       "  </tbody>\n",
       "</table>\n",
       "</div>"
      ],
      "text/plain": [
       "      gender       age    salary  family_members  insurance_benefits\n",
       "3124     1.0  0.446154  0.344304        0.500000                   0\n",
       "2315     0.0  0.384615  0.594937        0.166667                   0\n",
       "1992     1.0  0.384615  0.297468        0.000000                   0\n",
       "1064     0.0  0.538462  0.398734        0.166667                   0\n",
       "3375     0.0  0.446154  0.631646        0.333333                   0"
      ]
     },
     "execution_count": 10,
     "metadata": {},
     "output_type": "execute_result"
    }
   ],
   "source": [
    "#Saving feature names\n",
    "feature_names = ['gender', 'age', 'salary', 'family_members']\n",
    "\n",
    "#Defining function to return k nearest neighbors for given object based on specified distance metric\n",
    "def get_knn(df, n, k, metric):\n",
    "    \n",
    "    \"\"\" Returns k nearest neighbors\n",
    "    \n",
    "    :param df: pandas DataFrame used to find similar objects within\n",
    "    :param n: object no for which the nearest neighbours are looked for\n",
    "    :param k: the number of the nearest neighbours to return\n",
    "    :param metric: name of distance metric\"\"\"\n",
    "\n",
    "    nbrs = sklearn.neighbors.NearestNeighbors(n_neighbors=k, metric=metric) \n",
    "    nbrs.fit(df[feature_names].values)\n",
    "    nbrs_distances, nbrs_indices = nbrs.kneighbors([df.iloc[n][feature_names]], k, return_distance=True)\n",
    "    \n",
    "    df_res = pd.concat([df.iloc[nbrs_indices[0]], \n",
    "        pd.DataFrame(nbrs_distances.T, index=nbrs_indices[0], columns=['distance'])], axis=1)\n",
    "    \n",
    "    return df_res\n",
    "\n",
    "#Scaling\n",
    "transformer_mas = sklearn.preprocessing.MaxAbsScaler().fit(df[feature_names].to_numpy())\n",
    "df_scaled = df.copy()\n",
    "df_scaled.loc[:, feature_names] = transformer_mas.transform(df[feature_names].to_numpy())\n",
    "df_scaled.sample(5)"
   ]
  },
  {
   "cell_type": "code",
   "execution_count": 11,
   "id": "a86d908d",
   "metadata": {
    "scrolled": true
   },
   "outputs": [
    {
     "data": {
      "text/html": [
       "<div>\n",
       "<style scoped>\n",
       "    .dataframe tbody tr th:only-of-type {\n",
       "        vertical-align: middle;\n",
       "    }\n",
       "\n",
       "    .dataframe tbody tr th {\n",
       "        vertical-align: top;\n",
       "    }\n",
       "\n",
       "    .dataframe thead th {\n",
       "        text-align: right;\n",
       "    }\n",
       "</style>\n",
       "<table border=\"1\" class=\"dataframe\">\n",
       "  <thead>\n",
       "    <tr style=\"text-align: right;\">\n",
       "      <th></th>\n",
       "      <th>gender</th>\n",
       "      <th>age</th>\n",
       "      <th>salary</th>\n",
       "      <th>family_members</th>\n",
       "      <th>distance</th>\n",
       "    </tr>\n",
       "  </thead>\n",
       "  <tbody>\n",
       "    <tr>\n",
       "      <th>0</th>\n",
       "      <td>1</td>\n",
       "      <td>41</td>\n",
       "      <td>49600.0</td>\n",
       "      <td>1</td>\n",
       "      <td>0.000000</td>\n",
       "    </tr>\n",
       "    <tr>\n",
       "      <th>1915</th>\n",
       "      <td>1</td>\n",
       "      <td>41</td>\n",
       "      <td>49600.0</td>\n",
       "      <td>0</td>\n",
       "      <td>1.000000</td>\n",
       "    </tr>\n",
       "    <tr>\n",
       "      <th>1149</th>\n",
       "      <td>0</td>\n",
       "      <td>42</td>\n",
       "      <td>49600.0</td>\n",
       "      <td>0</td>\n",
       "      <td>1.732051</td>\n",
       "    </tr>\n",
       "    <tr>\n",
       "      <th>3882</th>\n",
       "      <td>1</td>\n",
       "      <td>44</td>\n",
       "      <td>49600.0</td>\n",
       "      <td>2</td>\n",
       "      <td>3.162278</td>\n",
       "    </tr>\n",
       "    <tr>\n",
       "      <th>3280</th>\n",
       "      <td>0</td>\n",
       "      <td>38</td>\n",
       "      <td>49600.0</td>\n",
       "      <td>0</td>\n",
       "      <td>3.316625</td>\n",
       "    </tr>\n",
       "    <tr>\n",
       "      <th>761</th>\n",
       "      <td>1</td>\n",
       "      <td>37</td>\n",
       "      <td>49600.0</td>\n",
       "      <td>2</td>\n",
       "      <td>4.123106</td>\n",
       "    </tr>\n",
       "    <tr>\n",
       "      <th>4508</th>\n",
       "      <td>0</td>\n",
       "      <td>45</td>\n",
       "      <td>49600.0</td>\n",
       "      <td>0</td>\n",
       "      <td>4.242641</td>\n",
       "    </tr>\n",
       "    <tr>\n",
       "      <th>2017</th>\n",
       "      <td>0</td>\n",
       "      <td>37</td>\n",
       "      <td>49600.0</td>\n",
       "      <td>2</td>\n",
       "      <td>4.242641</td>\n",
       "    </tr>\n",
       "    <tr>\n",
       "      <th>2230</th>\n",
       "      <td>1</td>\n",
       "      <td>46</td>\n",
       "      <td>49600.0</td>\n",
       "      <td>2</td>\n",
       "      <td>5.099020</td>\n",
       "    </tr>\n",
       "    <tr>\n",
       "      <th>3754</th>\n",
       "      <td>1</td>\n",
       "      <td>36</td>\n",
       "      <td>49600.0</td>\n",
       "      <td>0</td>\n",
       "      <td>5.099020</td>\n",
       "    </tr>\n",
       "  </tbody>\n",
       "</table>\n",
       "</div>"
      ],
      "text/plain": [
       "      gender  age   salary  family_members  distance\n",
       "0          1   41  49600.0               1  0.000000\n",
       "1915       1   41  49600.0               0  1.000000\n",
       "1149       0   42  49600.0               0  1.732051\n",
       "3882       1   44  49600.0               2  3.162278\n",
       "3280       0   38  49600.0               0  3.316625\n",
       "761        1   37  49600.0               2  4.123106\n",
       "4508       0   45  49600.0               0  4.242641\n",
       "2017       0   37  49600.0               2  4.242641\n",
       "2230       1   46  49600.0               2  5.099020\n",
       "3754       1   36  49600.0               0  5.099020"
      ]
     },
     "execution_count": 11,
     "metadata": {},
     "output_type": "execute_result"
    }
   ],
   "source": [
    "#Getting similar records to given one for every combination\n",
    "\n",
    "#Euclidean- unscaled data\n",
    "get_knn(df[feature_names], 0, 10, distance.euclidean)"
   ]
  },
  {
   "cell_type": "code",
   "execution_count": 12,
   "id": "e1531b98",
   "metadata": {},
   "outputs": [
    {
     "data": {
      "text/html": [
       "<div>\n",
       "<style scoped>\n",
       "    .dataframe tbody tr th:only-of-type {\n",
       "        vertical-align: middle;\n",
       "    }\n",
       "\n",
       "    .dataframe tbody tr th {\n",
       "        vertical-align: top;\n",
       "    }\n",
       "\n",
       "    .dataframe thead th {\n",
       "        text-align: right;\n",
       "    }\n",
       "</style>\n",
       "<table border=\"1\" class=\"dataframe\">\n",
       "  <thead>\n",
       "    <tr style=\"text-align: right;\">\n",
       "      <th></th>\n",
       "      <th>gender</th>\n",
       "      <th>age</th>\n",
       "      <th>salary</th>\n",
       "      <th>family_members</th>\n",
       "      <th>distance</th>\n",
       "    </tr>\n",
       "  </thead>\n",
       "  <tbody>\n",
       "    <tr>\n",
       "      <th>0</th>\n",
       "      <td>1.0</td>\n",
       "      <td>0.630769</td>\n",
       "      <td>0.627848</td>\n",
       "      <td>0.166667</td>\n",
       "      <td>0.000000</td>\n",
       "    </tr>\n",
       "    <tr>\n",
       "      <th>2562</th>\n",
       "      <td>1.0</td>\n",
       "      <td>0.630769</td>\n",
       "      <td>0.634177</td>\n",
       "      <td>0.166667</td>\n",
       "      <td>0.006329</td>\n",
       "    </tr>\n",
       "    <tr>\n",
       "      <th>119</th>\n",
       "      <td>1.0</td>\n",
       "      <td>0.615385</td>\n",
       "      <td>0.636709</td>\n",
       "      <td>0.166667</td>\n",
       "      <td>0.017754</td>\n",
       "    </tr>\n",
       "    <tr>\n",
       "      <th>4716</th>\n",
       "      <td>1.0</td>\n",
       "      <td>0.646154</td>\n",
       "      <td>0.637975</td>\n",
       "      <td>0.166667</td>\n",
       "      <td>0.018418</td>\n",
       "    </tr>\n",
       "    <tr>\n",
       "      <th>3133</th>\n",
       "      <td>1.0</td>\n",
       "      <td>0.646154</td>\n",
       "      <td>0.651899</td>\n",
       "      <td>0.166667</td>\n",
       "      <td>0.028550</td>\n",
       "    </tr>\n",
       "    <tr>\n",
       "      <th>1473</th>\n",
       "      <td>1.0</td>\n",
       "      <td>0.615385</td>\n",
       "      <td>0.602532</td>\n",
       "      <td>0.166667</td>\n",
       "      <td>0.029624</td>\n",
       "    </tr>\n",
       "    <tr>\n",
       "      <th>3222</th>\n",
       "      <td>1.0</td>\n",
       "      <td>0.630769</td>\n",
       "      <td>0.596203</td>\n",
       "      <td>0.166667</td>\n",
       "      <td>0.031646</td>\n",
       "    </tr>\n",
       "    <tr>\n",
       "      <th>110</th>\n",
       "      <td>1.0</td>\n",
       "      <td>0.661538</td>\n",
       "      <td>0.635443</td>\n",
       "      <td>0.166667</td>\n",
       "      <td>0.031693</td>\n",
       "    </tr>\n",
       "    <tr>\n",
       "      <th>3491</th>\n",
       "      <td>1.0</td>\n",
       "      <td>0.615385</td>\n",
       "      <td>0.600000</td>\n",
       "      <td>0.166667</td>\n",
       "      <td>0.031815</td>\n",
       "    </tr>\n",
       "    <tr>\n",
       "      <th>3031</th>\n",
       "      <td>1.0</td>\n",
       "      <td>0.600000</td>\n",
       "      <td>0.611392</td>\n",
       "      <td>0.166667</td>\n",
       "      <td>0.034893</td>\n",
       "    </tr>\n",
       "  </tbody>\n",
       "</table>\n",
       "</div>"
      ],
      "text/plain": [
       "      gender       age    salary  family_members  distance\n",
       "0        1.0  0.630769  0.627848        0.166667  0.000000\n",
       "2562     1.0  0.630769  0.634177        0.166667  0.006329\n",
       "119      1.0  0.615385  0.636709        0.166667  0.017754\n",
       "4716     1.0  0.646154  0.637975        0.166667  0.018418\n",
       "3133     1.0  0.646154  0.651899        0.166667  0.028550\n",
       "1473     1.0  0.615385  0.602532        0.166667  0.029624\n",
       "3222     1.0  0.630769  0.596203        0.166667  0.031646\n",
       "110      1.0  0.661538  0.635443        0.166667  0.031693\n",
       "3491     1.0  0.615385  0.600000        0.166667  0.031815\n",
       "3031     1.0  0.600000  0.611392        0.166667  0.034893"
      ]
     },
     "execution_count": 12,
     "metadata": {},
     "output_type": "execute_result"
    }
   ],
   "source": [
    "#Euclidean- scaled data\n",
    "get_knn(df_scaled[feature_names], 0, 10, distance.euclidean)"
   ]
  },
  {
   "cell_type": "code",
   "execution_count": 13,
   "id": "ded1ef5f",
   "metadata": {},
   "outputs": [
    {
     "data": {
      "text/html": [
       "<div>\n",
       "<style scoped>\n",
       "    .dataframe tbody tr th:only-of-type {\n",
       "        vertical-align: middle;\n",
       "    }\n",
       "\n",
       "    .dataframe tbody tr th {\n",
       "        vertical-align: top;\n",
       "    }\n",
       "\n",
       "    .dataframe thead th {\n",
       "        text-align: right;\n",
       "    }\n",
       "</style>\n",
       "<table border=\"1\" class=\"dataframe\">\n",
       "  <thead>\n",
       "    <tr style=\"text-align: right;\">\n",
       "      <th></th>\n",
       "      <th>gender</th>\n",
       "      <th>age</th>\n",
       "      <th>salary</th>\n",
       "      <th>family_members</th>\n",
       "      <th>distance</th>\n",
       "    </tr>\n",
       "  </thead>\n",
       "  <tbody>\n",
       "    <tr>\n",
       "      <th>0</th>\n",
       "      <td>1</td>\n",
       "      <td>41</td>\n",
       "      <td>49600.0</td>\n",
       "      <td>1</td>\n",
       "      <td>0.0</td>\n",
       "    </tr>\n",
       "    <tr>\n",
       "      <th>1915</th>\n",
       "      <td>1</td>\n",
       "      <td>41</td>\n",
       "      <td>49600.0</td>\n",
       "      <td>0</td>\n",
       "      <td>1.0</td>\n",
       "    </tr>\n",
       "    <tr>\n",
       "      <th>1149</th>\n",
       "      <td>0</td>\n",
       "      <td>42</td>\n",
       "      <td>49600.0</td>\n",
       "      <td>0</td>\n",
       "      <td>3.0</td>\n",
       "    </tr>\n",
       "    <tr>\n",
       "      <th>3882</th>\n",
       "      <td>1</td>\n",
       "      <td>44</td>\n",
       "      <td>49600.0</td>\n",
       "      <td>2</td>\n",
       "      <td>4.0</td>\n",
       "    </tr>\n",
       "    <tr>\n",
       "      <th>761</th>\n",
       "      <td>1</td>\n",
       "      <td>37</td>\n",
       "      <td>49600.0</td>\n",
       "      <td>2</td>\n",
       "      <td>5.0</td>\n",
       "    </tr>\n",
       "    <tr>\n",
       "      <th>3280</th>\n",
       "      <td>0</td>\n",
       "      <td>38</td>\n",
       "      <td>49600.0</td>\n",
       "      <td>0</td>\n",
       "      <td>5.0</td>\n",
       "    </tr>\n",
       "    <tr>\n",
       "      <th>3754</th>\n",
       "      <td>1</td>\n",
       "      <td>36</td>\n",
       "      <td>49600.0</td>\n",
       "      <td>0</td>\n",
       "      <td>6.0</td>\n",
       "    </tr>\n",
       "    <tr>\n",
       "      <th>2230</th>\n",
       "      <td>1</td>\n",
       "      <td>46</td>\n",
       "      <td>49600.0</td>\n",
       "      <td>2</td>\n",
       "      <td>6.0</td>\n",
       "    </tr>\n",
       "    <tr>\n",
       "      <th>4508</th>\n",
       "      <td>0</td>\n",
       "      <td>45</td>\n",
       "      <td>49600.0</td>\n",
       "      <td>0</td>\n",
       "      <td>6.0</td>\n",
       "    </tr>\n",
       "    <tr>\n",
       "      <th>2017</th>\n",
       "      <td>0</td>\n",
       "      <td>37</td>\n",
       "      <td>49600.0</td>\n",
       "      <td>2</td>\n",
       "      <td>6.0</td>\n",
       "    </tr>\n",
       "  </tbody>\n",
       "</table>\n",
       "</div>"
      ],
      "text/plain": [
       "      gender  age   salary  family_members  distance\n",
       "0          1   41  49600.0               1       0.0\n",
       "1915       1   41  49600.0               0       1.0\n",
       "1149       0   42  49600.0               0       3.0\n",
       "3882       1   44  49600.0               2       4.0\n",
       "761        1   37  49600.0               2       5.0\n",
       "3280       0   38  49600.0               0       5.0\n",
       "3754       1   36  49600.0               0       6.0\n",
       "2230       1   46  49600.0               2       6.0\n",
       "4508       0   45  49600.0               0       6.0\n",
       "2017       0   37  49600.0               2       6.0"
      ]
     },
     "execution_count": 13,
     "metadata": {},
     "output_type": "execute_result"
    }
   ],
   "source": [
    "#Manhattan- unscaled data\n",
    "get_knn(df[feature_names], 0, 10, distance.cityblock)"
   ]
  },
  {
   "cell_type": "code",
   "execution_count": 14,
   "id": "324273d3",
   "metadata": {},
   "outputs": [
    {
     "data": {
      "text/html": [
       "<div>\n",
       "<style scoped>\n",
       "    .dataframe tbody tr th:only-of-type {\n",
       "        vertical-align: middle;\n",
       "    }\n",
       "\n",
       "    .dataframe tbody tr th {\n",
       "        vertical-align: top;\n",
       "    }\n",
       "\n",
       "    .dataframe thead th {\n",
       "        text-align: right;\n",
       "    }\n",
       "</style>\n",
       "<table border=\"1\" class=\"dataframe\">\n",
       "  <thead>\n",
       "    <tr style=\"text-align: right;\">\n",
       "      <th></th>\n",
       "      <th>gender</th>\n",
       "      <th>age</th>\n",
       "      <th>salary</th>\n",
       "      <th>family_members</th>\n",
       "      <th>distance</th>\n",
       "    </tr>\n",
       "  </thead>\n",
       "  <tbody>\n",
       "    <tr>\n",
       "      <th>0</th>\n",
       "      <td>1.0</td>\n",
       "      <td>0.630769</td>\n",
       "      <td>0.627848</td>\n",
       "      <td>0.166667</td>\n",
       "      <td>0.000000</td>\n",
       "    </tr>\n",
       "    <tr>\n",
       "      <th>2562</th>\n",
       "      <td>1.0</td>\n",
       "      <td>0.630769</td>\n",
       "      <td>0.634177</td>\n",
       "      <td>0.166667</td>\n",
       "      <td>0.006329</td>\n",
       "    </tr>\n",
       "    <tr>\n",
       "      <th>119</th>\n",
       "      <td>1.0</td>\n",
       "      <td>0.615385</td>\n",
       "      <td>0.636709</td>\n",
       "      <td>0.166667</td>\n",
       "      <td>0.024245</td>\n",
       "    </tr>\n",
       "    <tr>\n",
       "      <th>4716</th>\n",
       "      <td>1.0</td>\n",
       "      <td>0.646154</td>\n",
       "      <td>0.637975</td>\n",
       "      <td>0.166667</td>\n",
       "      <td>0.025511</td>\n",
       "    </tr>\n",
       "    <tr>\n",
       "      <th>3222</th>\n",
       "      <td>1.0</td>\n",
       "      <td>0.630769</td>\n",
       "      <td>0.596203</td>\n",
       "      <td>0.166667</td>\n",
       "      <td>0.031646</td>\n",
       "    </tr>\n",
       "    <tr>\n",
       "      <th>110</th>\n",
       "      <td>1.0</td>\n",
       "      <td>0.661538</td>\n",
       "      <td>0.635443</td>\n",
       "      <td>0.166667</td>\n",
       "      <td>0.038364</td>\n",
       "    </tr>\n",
       "    <tr>\n",
       "      <th>4152</th>\n",
       "      <td>1.0</td>\n",
       "      <td>0.630769</td>\n",
       "      <td>0.588608</td>\n",
       "      <td>0.166667</td>\n",
       "      <td>0.039241</td>\n",
       "    </tr>\n",
       "    <tr>\n",
       "      <th>3133</th>\n",
       "      <td>1.0</td>\n",
       "      <td>0.646154</td>\n",
       "      <td>0.651899</td>\n",
       "      <td>0.166667</td>\n",
       "      <td>0.039435</td>\n",
       "    </tr>\n",
       "    <tr>\n",
       "      <th>1473</th>\n",
       "      <td>1.0</td>\n",
       "      <td>0.615385</td>\n",
       "      <td>0.602532</td>\n",
       "      <td>0.166667</td>\n",
       "      <td>0.040701</td>\n",
       "    </tr>\n",
       "    <tr>\n",
       "      <th>3491</th>\n",
       "      <td>1.0</td>\n",
       "      <td>0.615385</td>\n",
       "      <td>0.600000</td>\n",
       "      <td>0.166667</td>\n",
       "      <td>0.043233</td>\n",
       "    </tr>\n",
       "  </tbody>\n",
       "</table>\n",
       "</div>"
      ],
      "text/plain": [
       "      gender       age    salary  family_members  distance\n",
       "0        1.0  0.630769  0.627848        0.166667  0.000000\n",
       "2562     1.0  0.630769  0.634177        0.166667  0.006329\n",
       "119      1.0  0.615385  0.636709        0.166667  0.024245\n",
       "4716     1.0  0.646154  0.637975        0.166667  0.025511\n",
       "3222     1.0  0.630769  0.596203        0.166667  0.031646\n",
       "110      1.0  0.661538  0.635443        0.166667  0.038364\n",
       "4152     1.0  0.630769  0.588608        0.166667  0.039241\n",
       "3133     1.0  0.646154  0.651899        0.166667  0.039435\n",
       "1473     1.0  0.615385  0.602532        0.166667  0.040701\n",
       "3491     1.0  0.615385  0.600000        0.166667  0.043233"
      ]
     },
     "execution_count": 14,
     "metadata": {},
     "output_type": "execute_result"
    }
   ],
   "source": [
    "#Manhattan- scaled data\n",
    "get_knn(df_scaled[feature_names], 0, 10, distance.cityblock)"
   ]
  },
  {
   "cell_type": "markdown",
   "id": "69750160",
   "metadata": {},
   "source": [
    "**Does unscaled data affect kNN algorithm? If so, how does that appear?** \n",
    "Unscaled data affects kNN algorithm because algorithm gives more importance to features with higher ranging numbers. \n",
    "\n",
    "Euclidean distance: \n",
    "    - Unscaled- ranges from 0 to 5.099. \n",
    "    - Scaled- ranges from 0 to 0.034.\n",
    "    \n",
    "Scaled data results in more comparable distances.\n",
    "\n",
    "**How similar are Manhattan distance results?** \n",
    "Only 1st result is identical when applying Manhattan distance metric (0) and the rest are different."
   ]
  },
  {
   "cell_type": "markdown",
   "id": "849f9b62",
   "metadata": {},
   "source": [
    "# Task 2: Insurance benefit prediction kNN"
   ]
  },
  {
   "cell_type": "code",
   "execution_count": 15,
   "id": "ad4a9f66",
   "metadata": {},
   "outputs": [],
   "source": [
    "#Defining evaluation function\n",
    "def eval_classifier(y_true, y_pred):\n",
    "    \n",
    "    f1_score = sklearn.metrics.f1_score(y_true, y_pred)\n",
    "    print(f'F1: {f1_score:.2f}')\n",
    "    \n",
    "    cm = sklearn.metrics.confusion_matrix(y_true, y_pred, normalize='all')\n",
    "    print('Confusion Matrix')\n",
    "    print(cm)\n",
    "\n",
    "#Generating random model output\n",
    "def rnd_model_predict(P, size, seed=42):\n",
    "    \n",
    "    rng = np.random.default_rng(seed=seed)\n",
    "    return rng.binomial(n=1, p=P, size=size)"
   ]
  },
  {
   "cell_type": "markdown",
   "id": "540489ba",
   "metadata": {},
   "source": [
    "## Unscaled"
   ]
  },
  {
   "cell_type": "code",
   "execution_count": 16,
   "id": "a45afd0e",
   "metadata": {},
   "outputs": [
    {
     "data": {
      "text/plain": [
       "0    4284\n",
       "1     563\n",
       "Name: insurance_benefits_received, dtype: int64"
      ]
     },
     "execution_count": 16,
     "metadata": {},
     "output_type": "execute_result"
    }
   ],
   "source": [
    "#Finding target of insurance_benefits over zero- unscaled data\n",
    "df['insurance_benefits_received'] = (df['insurance_benefits'] > 0).astype(int)\n",
    "\n",
    "#Taking another look at class imbalance using value_counts()\n",
    "df['insurance_benefits_received'].value_counts()"
   ]
  },
  {
   "cell_type": "code",
   "execution_count": 17,
   "id": "457fbd7b",
   "metadata": {},
   "outputs": [
    {
     "name": "stdout",
     "output_type": "stream",
     "text": [
      "n_neighbors: 1, F1: 0.64\n",
      "n_neighbors: 2, F1: 0.43\n",
      "n_neighbors: 3, F1: 0.43\n",
      "n_neighbors: 4, F1: 0.22\n",
      "n_neighbors: 5, F1: 0.25\n",
      "n_neighbors: 6, F1: 0.09\n",
      "n_neighbors: 7, F1: 0.10\n",
      "n_neighbors: 8, F1: 0.07\n",
      "n_neighbors: 9, F1: 0.09\n",
      "n_neighbors: 10, F1: 0.01\n"
     ]
    }
   ],
   "source": [
    "#Splitting unscaled data into train and test sets (X- features, y-target)\n",
    "train, test = train_test_split(df, test_size=0.3, stratify=df['insurance_benefits_received'], random_state=12345)\n",
    "\n",
    "X_train = train[feature_names]\n",
    "X_test = test[feature_names]\n",
    "y_train = train['insurance_benefits_received']\n",
    "y_test = test['insurance_benefits_received']\n",
    "\n",
    "#Measuring model quality with F1 metric for k=1..10- unscaled data\n",
    "f1_unscaled = []\n",
    "for k in range(1,11):\n",
    "    knn = sklearn.neighbors.KNeighborsClassifier(n_neighbors=k)\n",
    "    knn.fit(X_train, y_train)\n",
    "    knn_pred = knn.predict(X_test)\n",
    "    f1_score = sklearn.metrics.f1_score(y_test, knn_pred)\n",
    "    f1_unscaled.append(f1_score)\n",
    "    print(f'n_neighbors: {k}, F1: {f1_score:.2f}')    "
   ]
  },
  {
   "cell_type": "markdown",
   "id": "cd01c6c5",
   "metadata": {},
   "source": [
    "*k* influences evaluation metrics- mostly, the higher *k* is, F1 score is lower.\n",
    "Highest F1 score is 0.65 when *k*=1."
   ]
  },
  {
   "cell_type": "markdown",
   "id": "84bdbfde",
   "metadata": {},
   "source": [
    "## Scaled"
   ]
  },
  {
   "cell_type": "code",
   "execution_count": 18,
   "id": "4874e9bc",
   "metadata": {},
   "outputs": [
    {
     "name": "stdout",
     "output_type": "stream",
     "text": [
      "n_neighbors: 1, F1: 0.94\n",
      "n_neighbors: 2, F1: 0.92\n",
      "n_neighbors: 3, F1: 0.94\n",
      "n_neighbors: 4, F1: 0.90\n",
      "n_neighbors: 5, F1: 0.94\n",
      "n_neighbors: 6, F1: 0.92\n",
      "n_neighbors: 7, F1: 0.94\n",
      "n_neighbors: 8, F1: 0.92\n",
      "n_neighbors: 9, F1: 0.93\n",
      "n_neighbors: 10, F1: 0.91\n"
     ]
    }
   ],
   "source": [
    "#Finding target of insurance_benefits over zero- scaled data\n",
    "df_scaled['insurance_benefits_received'] = (df_scaled['insurance_benefits'] > 0).astype(int)\n",
    "\n",
    "#Splitting scaled data into train and test sets (X- features, y-target)\n",
    "train_scaled, test_scaled = train_test_split(df_scaled, test_size=0.3, stratify=df_scaled['insurance_benefits_received'], random_state=12345)\n",
    "\n",
    "X_train_scaled = train_scaled[feature_names]\n",
    "X_test_scaled = test_scaled[feature_names]\n",
    "y_train_scaled = train_scaled['insurance_benefits_received']\n",
    "y_test_scaled = test_scaled['insurance_benefits_received']\n",
    "\n",
    "#Measuring model quality with F1 metric for k=1..10- scaled data\n",
    "f1_scaled = []\n",
    "for k in range(1,11):\n",
    "    knn = sklearn.neighbors.KNeighborsClassifier(n_neighbors=k)\n",
    "    knn.fit(X_train_scaled, y_train_scaled)\n",
    "    knn_pred = knn.predict(X_test_scaled)\n",
    "    f1_score = sklearn.metrics.f1_score(y_test_scaled, knn_pred)\n",
    "    f1_scaled.append(f1_score)\n",
    "    print(f'n_neighbors: {k}, F1: {f1_score:.2f}')    "
   ]
  },
  {
   "cell_type": "markdown",
   "id": "df848559",
   "metadata": {},
   "source": [
    "*k* slightly influences evaluation metrics, but it's inconsistent.\n",
    "Highest F1 score is 0.94 when *k*=1/3/5/7."
   ]
  },
  {
   "cell_type": "code",
   "execution_count": 19,
   "id": "b6837e82",
   "metadata": {},
   "outputs": [
    {
     "data": {
      "image/png": "[encoded data removed]",
      "text/plain": [
       "<Figure size 432x288 with 1 Axes>"
      ]
     },
     "metadata": {
      "needs_background": "light"
     },
     "output_type": "display_data"
    }
   ],
   "source": [
    "#Plotting \n",
    "plt.figure()\n",
    "plt.plot(f1_scaled, label = \"Scaled F1\")\n",
    "plt.plot(f1_unscaled, label = 'Uncaled F1')\n",
    "plt.xlabel('n_neighbors (k)')\n",
    "plt.ylabel('F1')\n",
    "plt.legend()\n",
    "plt.show()"
   ]
  },
  {
   "cell_type": "markdown",
   "id": "032af7d5",
   "metadata": {},
   "source": [
    "Plot depicts higher and more stable F1 scores for scaled data while unscaled decrease."
   ]
  },
  {
   "cell_type": "markdown",
   "id": "df20cf0f",
   "metadata": {},
   "source": [
    "## Paying insurance benefit probability "
   ]
  },
  {
   "cell_type": "markdown",
   "id": "41c6d62f",
   "metadata": {},
   "source": [
    "Paying any insurance benefit probability:\n",
    "\n",
    "$$P\\{\\text{insurance benefit received}\\}=\\frac{\\text{number of clients received any insurance benefit}}{\\text{total number of clients}}.$$"
   ]
  },
  {
   "cell_type": "code",
   "execution_count": 20,
   "id": "dc8b4221",
   "metadata": {
    "scrolled": true
   },
   "outputs": [
    {
     "name": "stdout",
     "output_type": "stream",
     "text": [
      "Probability: 0.00\n",
      "F1: 0.00\n",
      "Confusion Matrix\n",
      "[[0.88384568 0.        ]\n",
      " [0.11615432 0.        ]]\n",
      "\n",
      "Probability: 0.12\n",
      "F1: 0.11\n",
      "Confusion Matrix\n",
      "[[0.78295853 0.10088715]\n",
      " [0.10377553 0.01237879]]\n",
      "\n",
      "Probability: 0.50\n",
      "F1: 0.18\n",
      "Confusion Matrix\n",
      "[[0.44749329 0.43635238]\n",
      " [0.06044976 0.05570456]]\n",
      "\n",
      "Probability: 1.00\n",
      "F1: 0.21\n",
      "Confusion Matrix\n",
      "[[0.         0.88384568]\n",
      " [0.         0.11615432]]\n",
      "\n"
     ]
    }
   ],
   "source": [
    "#Finding confusion matrix and F1 of dummy rnd_model predictions- unscaled data\n",
    "for P in [0, df['insurance_benefits_received'].sum() / len(df), 0.5, 1]:\n",
    "\n",
    "    print(f'Probability: {P:.2f}')\n",
    "    y_pred_rnd = rnd_model_predict(P, df.shape[0])\n",
    "        \n",
    "    eval_classifier(df['insurance_benefits_received'], y_pred_rnd)\n",
    "    \n",
    "    print()"
   ]
  },
  {
   "cell_type": "code",
   "execution_count": 21,
   "id": "46d5ae14",
   "metadata": {
    "scrolled": true
   },
   "outputs": [
    {
     "name": "stdout",
     "output_type": "stream",
     "text": [
      "Probability: 0.00\n",
      "F1: 0.00\n",
      "Confusion Matrix\n",
      "[[0.88384568 0.        ]\n",
      " [0.11615432 0.        ]]\n",
      "\n",
      "Probability: 0.12\n",
      "F1: 0.11\n",
      "Confusion Matrix\n",
      "[[0.78295853 0.10088715]\n",
      " [0.10377553 0.01237879]]\n",
      "\n",
      "Probability: 0.50\n",
      "F1: 0.18\n",
      "Confusion Matrix\n",
      "[[0.44749329 0.43635238]\n",
      " [0.06044976 0.05570456]]\n",
      "\n",
      "Probability: 1.00\n",
      "F1: 0.21\n",
      "Confusion Matrix\n",
      "[[0.         0.88384568]\n",
      " [0.         0.11615432]]\n",
      "\n"
     ]
    }
   ],
   "source": [
    "#Finding confusion matrix and F1 of dummy rnd_model predictions- scaled data\n",
    "for P in [0, df_scaled['insurance_benefits_received'].sum() / len(df_scaled), 0.5, 1]:\n",
    "\n",
    "    print(f'Probability: {P:.2f}')\n",
    "    y_pred_rnd = rnd_model_predict(P, df_scaled.shape[0])\n",
    "        \n",
    "    eval_classifier(df_scaled['insurance_benefits_received'], y_pred_rnd)\n",
    "    \n",
    "    print()"
   ]
  },
  {
   "cell_type": "markdown",
   "id": "bfe94e3a",
   "metadata": {},
   "source": [
    "Highest F1 score of 0.21 when P=1 for both unscaled and scaled data."
   ]
  },
  {
   "cell_type": "markdown",
   "id": "1ee2f95c",
   "metadata": {},
   "source": [
    "# Task 3: Insurance benefit prediction- LR"
   ]
  },
  {
   "cell_type": "markdown",
   "id": "5ce94204",
   "metadata": {},
   "source": [
    "- $X$ — feature matrix, each row is a case, each column is a feature, the first column consists of unities\n",
    "- $y$ — target (a vector)\n",
    "- $\\hat{y}$ — estimated tagret (a vector)\n",
    "- $w$ — weight vector\n",
    "\n",
    "Linear regression task in matrices' language can be formulated as: $$y = Xw$$\n",
    "\n",
    "Training objective is finding $w$ to minimize L2-distance (MSE) between $Xw$ and $y$:\n",
    "\n",
    "$$\\min_w d_2(Xw, y) \\quad \\text{or} \\quad \\min_w \\text{MSE}(Xw, y)$$\n",
    "\n",
    "Analytical solution for above to find weights $w$: $$w = (X^T X)^{-1} X^T y$$\n",
    "\n",
    "Formula to calculate predicted values:\n",
    "$$\\hat{y} = X_{val}w$$"
   ]
  },
  {
   "cell_type": "code",
   "execution_count": 22,
   "id": "346c02f9",
   "metadata": {},
   "outputs": [],
   "source": [
    "#Building implementation of LR\n",
    "class MyLinearRegression:\n",
    "    \n",
    "    def __init__(self):\n",
    "        self.weights = None\n",
    "    \n",
    "    def fit(self, X, y):\n",
    "        X2 = np.append(np.ones([len(X), 1]), X, axis=1)\n",
    "        self.weights = np.linalg.inv(X2.T.dot(X2)).dot(X2.T).dot(y)\n",
    "\n",
    "    def predict(self, X):\n",
    "        X2 = np.append(np.ones([len(X), 1]), X, axis=1)\n",
    "        y_pred = X2.dot(self.weights)\n",
    "        return y_pred\n",
    "\n",
    "#Defining evaluation function\n",
    "def eval_regressor(y_true, y_pred):\n",
    "    \n",
    "    rmse = math.sqrt(sklearn.metrics.mean_squared_error(y_true, y_pred))\n",
    "    print(f'RMSE: {rmse:.2f}')\n",
    "    \n",
    "    r2_score = math.sqrt(sklearn.metrics.r2_score(y_true, y_pred))\n",
    "    print(f'R2: {r2_score:.2f}')"
   ]
  },
  {
   "cell_type": "code",
   "execution_count": 23,
   "id": "2c85e707",
   "metadata": {},
   "outputs": [
    {
     "name": "stdout",
     "output_type": "stream",
     "text": [
      "[-9.44297084e-01  3.57250600e-02  2.62226896e-04  1.65512162e-08\n",
      " -1.54743916e-02]\n",
      "RMSE: 0.36\n",
      "R2: 0.67\n"
     ]
    }
   ],
   "source": [
    "#Linear regression- unscaled data\n",
    "X = df[['age', 'gender', 'salary', 'family_members']].to_numpy()\n",
    "y = df['insurance_benefits'].to_numpy()\n",
    "\n",
    "X_train, X_test, y_train, y_test = train_test_split(X, y, test_size=0.3, random_state=12345)\n",
    "\n",
    "lr = MyLinearRegression()\n",
    "\n",
    "lr.fit(X_train, y_train)\n",
    "print(lr.weights)\n",
    "\n",
    "y_test_pred = lr.predict(X_test)\n",
    "eval_regressor(y_test, y_test_pred)"
   ]
  },
  {
   "cell_type": "code",
   "execution_count": 24,
   "id": "add37a0b",
   "metadata": {},
   "outputs": [
    {
     "name": "stdout",
     "output_type": "stream",
     "text": [
      "[-9.44297084e-01  2.32212890e+00  2.62226896e-04  1.30754608e-03\n",
      " -9.28463493e-02]\n",
      "RMSE: 0.36\n",
      "R2: 0.67\n"
     ]
    }
   ],
   "source": [
    "#Linear regression- scaled data\n",
    "X = df_scaled[['age', 'gender', 'salary', 'family_members']].to_numpy()\n",
    "y = df_scaled['insurance_benefits'].to_numpy()\n",
    "\n",
    "X_train, X_test, y_train, y_test = train_test_split(X, y, test_size=0.3, random_state=12345)\n",
    "\n",
    "lr = MyLinearRegression()\n",
    "\n",
    "lr.fit(X_train, y_train)\n",
    "print(lr.weights)\n",
    "\n",
    "y_test_pred = lr.predict(X_test)\n",
    "eval_regressor(y_test, y_test_pred)"
   ]
  },
  {
   "cell_type": "markdown",
   "id": "45356940",
   "metadata": {},
   "source": [
    "RMSE=0.36 and R2=0.67 for both unscaled and scaled data, meaning on a scale from 0 to 1 model prediction mistakes are 36% and R2 score in a range of 100 returns 67%.\n",
    "Scaled data results in more interpretable trained model weights than unscaled data."
   ]
  },
  {
   "cell_type": "markdown",
   "id": "193e7ff4",
   "metadata": {},
   "source": [
    "# Task 4: Data obfuscation"
   ]
  },
  {
   "cell_type": "markdown",
   "id": "94786847",
   "metadata": {},
   "source": [
    "It's best to obfuscate data by multiplying numerical features (matrix $X$) by an invertible matrix $P$. \n",
    "\n",
    "$$X' = X \\times P$$"
   ]
  },
  {
   "cell_type": "code",
   "execution_count": 25,
   "id": "f92fb0fe",
   "metadata": {
    "scrolled": true
   },
   "outputs": [
    {
     "data": {
      "text/plain": [
       "array([[ 1.00000000e+00, -1.66533454e-16,  0.00000000e+00,\n",
       "         8.32667268e-17],\n",
       "       [ 0.00000000e+00,  1.00000000e+00,  0.00000000e+00,\n",
       "         6.93889390e-17],\n",
       "       [ 0.00000000e+00, -1.11022302e-16,  1.00000000e+00,\n",
       "         6.93889390e-17],\n",
       "       [-2.28983499e-16, -3.88578059e-16, -5.55111512e-17,\n",
       "         1.00000000e+00]])"
      ]
     },
     "execution_count": 25,
     "metadata": {},
     "output_type": "execute_result"
    }
   ],
   "source": [
    "#Creating DF of 4 features as columns\n",
    "personal_info_column_list = ['gender', 'age', 'salary', 'family_members']\n",
    "df_pn = df[personal_info_column_list]\n",
    "\n",
    "#Generating matrix X\n",
    "X = df_pn.to_numpy()\n",
    "\n",
    "#Generating random matrix P\n",
    "rng = np.random.default_rng(seed=42)\n",
    "P = rng.random(size=(X.shape[1], X.shape[1]))\n",
    "\n",
    "#Checking if matrix P is invertible\n",
    "np.matmul(P, np.linalg.inv(P))"
   ]
  },
  {
   "cell_type": "markdown",
   "id": "e67dcef1",
   "metadata": {},
   "source": [
    "P is invertible since there are 1s in diagonal. "
   ]
  },
  {
   "cell_type": "code",
   "execution_count": 26,
   "id": "a2af9901",
   "metadata": {
    "scrolled": true
   },
   "outputs": [
    {
     "data": {
      "text/plain": [
       "array([[ 6359.71527314, 22380.40467609, 18424.09074184, 46000.69669016],\n",
       "       [ 4873.29406479, 17160.36702982, 14125.78076133, 35253.45577301],\n",
       "       [ 2693.11742928,  9486.397744  ,  7808.83156024, 19484.86063067],\n",
       "       ...,\n",
       "       [ 4346.2234249 , 15289.24126492, 12586.16264392, 31433.50888552],\n",
       "       [ 4194.09324155, 14751.9910242 , 12144.02930637, 30323.88763426],\n",
       "       [ 5205.46827354, 18314.24814446, 15077.01370762, 37649.59295455]])"
      ]
     },
     "execution_count": 26,
     "metadata": {},
     "output_type": "execute_result"
    }
   ],
   "source": [
    "#Transforming (obfuscating data) to see if possible to guess customers' ages or salary after transformation\n",
    "X_prime = np.matmul(X, P)\n",
    "X_prime"
   ]
  },
  {
   "cell_type": "markdown",
   "id": "3e4d28a5",
   "metadata": {},
   "source": [
    "DF numbers are no longer distinguishable nor recognizable."
   ]
  },
  {
   "cell_type": "code",
   "execution_count": 27,
   "id": "dc8eb0ed",
   "metadata": {},
   "outputs": [
    {
     "data": {
      "text/plain": [
       "array([[1.00e+00, 4.10e+01, 4.96e+04, 1.00e+00],\n",
       "       [0.00e+00, 4.60e+01, 3.80e+04, 1.00e+00],\n",
       "       [0.00e+00, 2.90e+01, 2.10e+04, 0.00e+00],\n",
       "       ...,\n",
       "       [0.00e+00, 2.00e+01, 3.39e+04, 2.00e+00],\n",
       "       [1.00e+00, 2.20e+01, 3.27e+04, 3.00e+00],\n",
       "       [1.00e+00, 2.80e+01, 4.06e+04, 1.00e+00]])"
      ]
     },
     "metadata": {},
     "output_type": "display_data"
    },
    {
     "data": {
      "text/plain": [
       "array([[ 1.00000000e+00,  4.10000000e+01,  4.96000000e+04,\n",
       "         1.00000000e+00],\n",
       "       [-3.18323146e-12,  4.60000000e+01,  3.80000000e+04,\n",
       "         1.00000000e+00],\n",
       "       [ 1.36424205e-12,  2.90000000e+01,  2.10000000e+04,\n",
       "         0.00000000e+00],\n",
       "       ...,\n",
       "       [ 4.54747351e-13,  2.00000000e+01,  3.39000000e+04,\n",
       "         2.00000000e+00],\n",
       "       [ 1.00000000e+00,  2.20000000e+01,  3.27000000e+04,\n",
       "         3.00000000e+00],\n",
       "       [ 1.00000000e+00,  2.80000000e+01,  4.06000000e+04,\n",
       "         1.00000000e+00]])"
      ]
     },
     "execution_count": 27,
     "metadata": {},
     "output_type": "execute_result"
    }
   ],
   "source": [
    "#Moving P from formula's right side to left one to check if original data can be recovered from X' if P is known \n",
    "X_rec = X_prime.dot(np.linalg.inv(P))\n",
    "display(X)\n",
    "X_rec"
   ]
  },
  {
   "cell_type": "markdown",
   "id": "de56ad6e",
   "metadata": {},
   "source": [
    "X is recoverable by multiplying obfuscated matrix by P inverse."
   ]
  },
  {
   "cell_type": "code",
   "execution_count": 28,
   "id": "c1a00ee0",
   "metadata": {},
   "outputs": [
    {
     "name": "stdout",
     "output_type": "stream",
     "text": [
      "Original data \n",
      " [[1.00e+00 4.10e+01 4.96e+04 1.00e+00]\n",
      " [0.00e+00 4.60e+01 3.80e+04 1.00e+00]\n",
      " [0.00e+00 2.90e+01 2.10e+04 0.00e+00]]\n",
      "\n",
      "Transformed data \n",
      " [[ 6359.71527314 22380.40467609 18424.09074184 46000.69669016]\n",
      " [ 4873.29406479 17160.36702982 14125.78076133 35253.45577301]\n",
      " [ 2693.11742928  9486.397744    7808.83156024 19484.86063067]]\n",
      "\n",
      "Reversed (recovered) data \n",
      " [[ 1.00000000e+00  4.10000000e+01  4.96000000e+04  1.00000000e+00]\n",
      " [-3.18323146e-12  4.60000000e+01  3.80000000e+04  1.00000000e+00]\n",
      " [ 1.36424205e-12  2.90000000e+01  2.10000000e+04  0.00000000e+00]]\n",
      "\n"
     ]
    }
   ],
   "source": [
    "#Printing all three cases for a few customers\n",
    "print('Original data \\n {}'.format(X[:3]))\n",
    "print()\n",
    "print('Transformed data \\n {}'.format(X_prime[:3]))\n",
    "print()\n",
    "print('Reversed (recovered) data \\n {}'.format(X_rec[:3]))\n",
    "print()"
   ]
  },
  {
   "cell_type": "markdown",
   "id": "19f77f55",
   "metadata": {},
   "source": [
    "Some values aren't exactly same as in original data, this may be due to precision of calculation and transformation of values close to 0."
   ]
  },
  {
   "cell_type": "markdown",
   "id": "d40a202e",
   "metadata": {},
   "source": [
    "## Proof data obfuscation works with LR"
   ]
  },
  {
   "cell_type": "markdown",
   "id": "ce40affe",
   "metadata": {},
   "source": [
    "<table>\n",
    "<tr>\n",
    "<td>Distributivity</td><td>$A(B+C)=AB+AC$</td>\n",
    "</tr>\n",
    "<tr>\n",
    "<td>Non-commutativity</td><td>$AB \\neq BA$</td>\n",
    "</tr>\n",
    "<tr>\n",
    "<td>Associative property of multiplication</td><td>$(AB)C = A(BC)$</td>\n",
    "</tr>\n",
    "<tr>\n",
    "<td>Multiplicative identity property</td><td>$IA = AI = A$</td>\n",
    "</tr>\n",
    "<tr>\n",
    "<td></td><td>$A^{-1}A = AA^{-1} = I$\n",
    "</td>\n",
    "</tr>    \n",
    "<tr>\n",
    "<td></td><td>$(AB)^{-1} = B^{-1}A^{-1}$</td>\n",
    "</tr>    \n",
    "<tr>\n",
    "<td>Reversivity of the transpose of a product of matrices,</td><td>$(AB)^T = B^TA^T$</td>\n",
    "</tr>    \n",
    "</table>"
   ]
  },
  {
   "cell_type": "markdown",
   "id": "162be3ac",
   "metadata": {},
   "source": [
    "Data is obfuscated and there is $X \\times P$ instead of just $X$ now. Consequently, there are other weights $w_P$ as:\n",
    "\n",
    "$$w = (X^T X)^{-1} X^T y \\quad \\Rightarrow \\quad w_P = [(XP)^T XP]^{-1} (XP)^T y$$\n",
    "\n",
    "- How would $w$ and $w_P$ be linked if $w_P$ formula above would be simplified? \n",
    "\n",
    "- What would be predicted values with $w_P$? \n",
    "\n",
    "- What does that mean for LR quality if measured with RMSE?\n",
    "\n",
    "\n",
    "wP predicted values are same values of w multiplied by P, this way data is unrecognizable but this won't affect LR quality. Returning same RMSE results means algorithm can perform task with same root squared error. Reverting process allows recovery of real data from obfuscated predictions.\n",
    "\n",
    "\n",
    "**Simplified $w_P$ formula**\n",
    "\n",
    "- Given $$w_p = [(XP)^T XP]^{-1}(XP)^Ty \\qquad \\qquad $$\n",
    "\n",
    "- Expand $(XP)^T$ using transpose property reversivity $$w_p = [P^T X^T XP]^{-1} P^T X^T y\\qquad \\qquad$$\n",
    "\n",
    "- Arrange square brackets $$w_p = (P^T (X^T X) P)^{-1} P^T X^T y \\qquad \\qquad$$\n",
    "\n",
    "- Expand bracket $(P^T (X^T X) P)^{-1}$ $$w_p = P^{-1} (X^T X)^{-1} (P^T)^{-1} P^T X^T y \\qquad \\qquad$$\n",
    "\n",
    "- Since $(P^T)^{-1} P^T = P^T (P^T)^{-1}  = I$\n",
    "\n",
    "$$w_p = P^{-1} (X^T X)^{-1} I X^T y \\qquad \\qquad$$\n",
    "\n",
    "- Apply multiplication identity property $ I X^T = X^T I = X^T$\n",
    "\n",
    "$$w_p = P^{-1} (X^T X)^{-1} X^T y \\qquad \\qquad$$\n",
    "\n",
    "- Substitute $w = (X^T X)^{-1} X^T y$\n",
    "\n",
    "$$w_p = P^{-1} w \\qquad \\qquad$$\n",
    "\n",
    "\n",
    "**Predicted values with $w_p$**\n",
    "\n",
    "- If $$a = Xw$$\n",
    "$$a' = X'w_p$$\n",
    "\n",
    "- Where $$X' = XP$$\n",
    "$$w_p = P^{-1}w$$\n",
    "\n",
    "- Substitute these values in $a'$ and consequentially\n",
    "$$ a'= XP.P^{-1}w$$\n",
    "$$a'= XIw$$\n",
    "$$a'= Xw = a$$\n",
    "\n",
    "\n",
    "**LR quality if measured with RMSE?**\n",
    "\n",
    "$a'$ and $a$ are the same, therefore RMSE of both transformed and non-transformed data will remain the same, resulting in similar LR quality."
   ]
  },
  {
   "cell_type": "markdown",
   "id": "12f7a881",
   "metadata": {},
   "source": [
    "## LR testing with data obfuscation"
   ]
  },
  {
   "cell_type": "code",
   "execution_count": 29,
   "id": "31935c17",
   "metadata": {},
   "outputs": [
    {
     "data": {
      "text/plain": [
       "array([[0.77395605, 0.43887844, 0.85859792, 0.69736803],\n",
       "       [0.09417735, 0.97562235, 0.7611397 , 0.78606431],\n",
       "       [0.12811363, 0.45038594, 0.37079802, 0.92676499],\n",
       "       [0.64386512, 0.82276161, 0.4434142 , 0.22723872]])"
      ]
     },
     "execution_count": 29,
     "metadata": {},
     "output_type": "execute_result"
    }
   ],
   "source": [
    "#Creating square matrix P of random numbers\n",
    "rn = np.random.default_rng(seed=42)\n",
    "P = rn.random(size=(X.shape[1], X.shape[1]))\n",
    "P"
   ]
  },
  {
   "cell_type": "code",
   "execution_count": 30,
   "id": "b250d2f4",
   "metadata": {},
   "outputs": [
    {
     "data": {
      "text/plain": [
       "array([[ 1.00000000e+00, -1.66533454e-16,  0.00000000e+00,\n",
       "         8.32667268e-17],\n",
       "       [ 0.00000000e+00,  1.00000000e+00,  0.00000000e+00,\n",
       "         6.93889390e-17],\n",
       "       [ 0.00000000e+00, -1.11022302e-16,  1.00000000e+00,\n",
       "         6.93889390e-17],\n",
       "       [-2.28983499e-16, -3.88578059e-16, -5.55111512e-17,\n",
       "         1.00000000e+00]])"
      ]
     },
     "execution_count": 30,
     "metadata": {},
     "output_type": "execute_result"
    }
   ],
   "source": [
    "#Checking if matrix P is invertible\n",
    "np.matmul(P, np.linalg.inv(P))"
   ]
  },
  {
   "cell_type": "code",
   "execution_count": 31,
   "id": "6f763f82",
   "metadata": {},
   "outputs": [
    {
     "name": "stdout",
     "output_type": "stream",
     "text": [
      "[-9.44297084e-01  2.62226896e-04  3.57250600e-02  1.65512162e-08\n",
      " -1.54743916e-02]\n",
      "RMSE: 0.36\n",
      "R2: 0.67\n"
     ]
    }
   ],
   "source": [
    "#Linear regression- original data\n",
    "X = df[['gender', 'age', 'salary', 'family_members']].to_numpy()\n",
    "y = df[\"insurance_benefits\"].to_numpy()\n",
    "\n",
    "X_train, X_test, y_train, y_test = train_test_split(X, y, test_size=0.3, random_state=12345)\n",
    "\n",
    "lr = MyLinearRegression()\n",
    "\n",
    "lr.fit(X_train, y_train)\n",
    "print(lr.weights)\n",
    "\n",
    "y_test_pred = lr.predict(X_test)\n",
    "eval_regressor(y_test, y_test_pred)"
   ]
  },
  {
   "cell_type": "code",
   "execution_count": 32,
   "id": "96f10988",
   "metadata": {},
   "outputs": [
    {
     "name": "stdout",
     "output_type": "stream",
     "text": [
      "[-0.94429708 -0.06889917 -0.00280649  0.08148232 -0.02171267]\n",
      "RMSE: 0.36\n",
      "R2: 0.67\n"
     ]
    }
   ],
   "source": [
    "#Linear regression- obfuscatedl data\n",
    "X_prime = X.dot(P)\n",
    "\n",
    "X_train_obs, X_test_obs, y_train_obs, y_test_obs = train_test_split(X_prime, y, test_size=0.3, random_state=12345)\n",
    "\n",
    "lr = MyLinearRegression()\n",
    "\n",
    "lr.fit(X_train_obs, y_train_obs)\n",
    "print(lr.weights)\n",
    "\n",
    "y_test_pred = lr.predict(X_test_obs)\n",
    "eval_regressor(y_test_obs, y_test_pred)"
   ]
  },
  {
   "cell_type": "markdown",
   "id": "48b20931",
   "metadata": {},
   "source": [
    "RMSE=0.36 and R2=0.67 for both original and obfuscated data."
   ]
  },
  {
   "cell_type": "markdown",
   "id": "3543ec61",
   "metadata": {},
   "source": [
    "# Conclusion"
   ]
  },
  {
   "cell_type": "markdown",
   "id": "5e7b1fbb",
   "metadata": {},
   "source": [
    "In summary, in this project we developed a data transformation algorithm for Sure Tomorrow insurance company to make it hard to recover personal information if data fell into wrong hands by data masking/data obfuscation.\n",
    "\n",
    "<ins>We followed the methodology as follows:<ins>\n",
    "- Open data file and study general information.\n",
    "- Data preprocessing including column renaming and data type changing.\n",
    "- Exploratory data analysis.\n",
    "- kNN and scaling.\n",
    "- LR, RMSE and R2.\n",
    "- Data masking/obfuscation.\n",
    "- And now, final conclusion.\n",
    " \n",
    "<ins>Findings:<ins>\n",
    "    \n",
    "Task 1:\n",
    "- Unscaled data affects kNN algorithm because algorithm gives more importance to features with higher ranging numbers. \n",
    "\n",
    "- Euclidean distance: \n",
    "    - Unscaled- ranges from 0 to 5.099. \n",
    "    - Scaled- ranges from 0 to 0.034.\n",
    "    \n",
    "- Scaled data results in more comparable distances.\n",
    "- Only 1st result is identical when applying Manhattan distance metric (0) and the rest are different.\n",
    "\n",
    "\n",
    "Task 2:\n",
    "- Unscaled- *k* influences evaluation metrics- mostly, the higher *k* is, F1 score is lower.\n",
    "Highest F1 score is 0.65 when *k*=1.\n",
    "- Scaled- *k* slightly influences evaluation metrics, but it's inconsistent.\n",
    "Highest F1 score is 0.94 when *k*=1/3/5/7.\n",
    "- Higher and more stable F1 scores for scaled data while unscaled decrease.\n",
    "- Highest F1 score of 0.21 when P=1 for both unscaled and scaled data.\n",
    "    \n",
    "    \n",
    "Task 3:\n",
    "- RMSE=0.36 and R2=0.67 for both unscaled and scaled data, meaning on a scale from 0 to 1 model prediction mistakes are 36% and R2 score in a range of 100 returns 67%.\n",
    "- Scaled data results in more interpretable trained model weights than unscaled data.    \n",
    "    \n",
    "Task 4:\n",
    "- Obfuscation works with LR.\n",
    "- RMSE=0.36 and R2=0.67 for both original and obfuscated data."
   ]
  },
  {
   "cell_type": "code",
   "execution_count": null,
   "id": "89ba8905",
   "metadata": {},
   "outputs": [],
   "source": []
  }
 ],
 "metadata": {
  "kernelspec": {
   "display_name": "Python 3",
   "language": "python",
   "name": "python3"
  },
  "language_info": {
   "codemirror_mode": {
    "name": "ipython",
    "version": 3
   },
   "file_extension": ".py",
   "mimetype": "text/x-python",
   "name": "python",
   "nbconvert_exporter": "python",
   "pygments_lexer": "ipython3",
   "version": "3.8.8"
  },
  "toc": {
   "base_numbering": 1,
   "nav_menu": {},
   "number_sections": true,
   "sideBar": true,
   "skip_h1_title": false,
   "title_cell": "Table of Contents",
   "title_sidebar": "Contents",
   "toc_cell": true,
   "toc_position": {
    "height": "calc(100% - 180px)",
    "left": "10px",
    "top": "150px",
    "width": "255px"
   },
   "toc_section_display": true,
   "toc_window_display": true
  }
 },
 "nbformat": 4,
 "nbformat_minor": 5
}
